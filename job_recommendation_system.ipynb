{
 "cells": [
  {
   "cell_type": "code",
   "execution_count": 4,
   "metadata": {},
   "outputs": [],
   "source": [
    "#import libraries\n",
    "import pandas as pd\n",
    "import numpy as np\n",
    "import  matplotlib.pyplot as plt\n",
    "%matplotlib inline\n",
    "import seaborn as sns\n",
    "\n",
    "\n",
    "import re\n",
    "import string\n",
    "from sklearn.feature_extraction.text import TfidfVectorizer\n",
    "from sklearn.metrics.pairwise import cosine_similarity\n"
   ]
  },
  {
   "cell_type": "markdown",
   "metadata": {},
   "source": [
    "### **Combined Jobs Final dataset**\n",
    "**DATA UNDERSTANDING**\n",
    "\n",
    "The Combined  Jobs Final dataset contains 84,090 rows and 23 columns. The columns are: \n",
    "\n",
    "***1. Job.ID:*** Unique identifier for each job listing.\n",
    "\n",
    "***2. Provider:*** Platform or source of the job listing.\n",
    "\n",
    "***3. Status:*** Current state of the job (e.g., open, closed).\n",
    "\n",
    "***4. Slug:*** URL-friendly string for the job.\n",
    "\n",
    "***5. Title:*** Job title or role and the @ refers to the company or location to where the job is at\n",
    "\n",
    "***6. Position:*** Job position type.\n",
    "\n",
    "***7. Company:*** Name of the hiring company.\n",
    "\n",
    "***8. City:*** City where the job is located.\n",
    "\n",
    "***9. State.Name:*** Name of the state where the job is located.\n",
    "\n",
    "***10. State.Code:*** Abbreviation or code for the state.\n",
    "\n",
    "***11. Address:*** Detailed address of the job location.\n",
    "\n",
    "***12. Latitude:*** Latitude coordinate of the job location.\n",
    "\n",
    "***13. Longitude:*** Longitude coordinate of the job location.\n",
    "\n",
    "***14. Industry:*** Industry related to the job.\n",
    "\n",
    "***15. Job.Description:*** Detailed description of the job role.\n",
    "\n",
    "***16. Requirements:*** Qualifications and skills required for the job.\n",
    "\n",
    "***17. Salary:*** Salary offered for the position.\n",
    "\n",
    "***18. Listing.Start:*** Date the job listing became active.\n",
    "\n",
    "***19. Listing.End:*** Date the job listing ends or expires.\n",
    "\n",
    "***20. Employment.Type:*** Type of employment (e.g., full-time, part-time).\n",
    "\n",
    "***21. Education.Required:*** Educational qualifications required.\n",
    "\n",
    "***22. Created.At:*** Timestamp when the listing was created.\n",
    "\n",
    "***23. Updated.At:*** Timestamp of the last update made to the listing."
   ]
  },
  {
   "cell_type": "code",
   "execution_count": 5,
   "metadata": {},
   "outputs": [
    {
     "data": {
      "text/html": [
       "<div>\n",
       "<style scoped>\n",
       "    .dataframe tbody tr th:only-of-type {\n",
       "        vertical-align: middle;\n",
       "    }\n",
       "\n",
       "    .dataframe tbody tr th {\n",
       "        vertical-align: top;\n",
       "    }\n",
       "\n",
       "    .dataframe thead th {\n",
       "        text-align: right;\n",
       "    }\n",
       "</style>\n",
       "<table border=\"1\" class=\"dataframe\">\n",
       "  <thead>\n",
       "    <tr style=\"text-align: right;\">\n",
       "      <th></th>\n",
       "      <th>Job.ID</th>\n",
       "      <th>Provider</th>\n",
       "      <th>Status</th>\n",
       "      <th>Slug</th>\n",
       "      <th>Title</th>\n",
       "      <th>Position</th>\n",
       "      <th>Company</th>\n",
       "      <th>City</th>\n",
       "      <th>State.Name</th>\n",
       "      <th>State.Code</th>\n",
       "      <th>...</th>\n",
       "      <th>Industry</th>\n",
       "      <th>Job.Description</th>\n",
       "      <th>Requirements</th>\n",
       "      <th>Salary</th>\n",
       "      <th>Listing.Start</th>\n",
       "      <th>Listing.End</th>\n",
       "      <th>Employment.Type</th>\n",
       "      <th>Education.Required</th>\n",
       "      <th>Created.At</th>\n",
       "      <th>Updated.At</th>\n",
       "    </tr>\n",
       "  </thead>\n",
       "  <tbody>\n",
       "    <tr>\n",
       "      <th>0</th>\n",
       "      <td>111</td>\n",
       "      <td>1</td>\n",
       "      <td>open</td>\n",
       "      <td>palo-alto-ca-tacolicious-server</td>\n",
       "      <td>Server @ Tacolicious</td>\n",
       "      <td>Server</td>\n",
       "      <td>Tacolicious</td>\n",
       "      <td>Palo Alto</td>\n",
       "      <td>California</td>\n",
       "      <td>CA</td>\n",
       "      <td>...</td>\n",
       "      <td>Food and Beverages</td>\n",
       "      <td>Tacolicious' first Palo Alto store just opened...</td>\n",
       "      <td>NaN</td>\n",
       "      <td>8.00</td>\n",
       "      <td>NaN</td>\n",
       "      <td>NaN</td>\n",
       "      <td>Part-Time</td>\n",
       "      <td>NaN</td>\n",
       "      <td>2013-03-12 02:08:28 UTC</td>\n",
       "      <td>2014-08-16 15:35:36 UTC</td>\n",
       "    </tr>\n",
       "    <tr>\n",
       "      <th>1</th>\n",
       "      <td>113</td>\n",
       "      <td>1</td>\n",
       "      <td>open</td>\n",
       "      <td>san-francisco-ca-claude-lane-kitchen-staff-chef</td>\n",
       "      <td>Kitchen Staff/Chef @ Claude Lane</td>\n",
       "      <td>Kitchen Staff/Chef</td>\n",
       "      <td>Claude Lane</td>\n",
       "      <td>San Francisco</td>\n",
       "      <td>California</td>\n",
       "      <td>CA</td>\n",
       "      <td>...</td>\n",
       "      <td>Food and Beverages</td>\n",
       "      <td>\\r\\n\\r\\nNew French Brasserie in S.F. Financia...</td>\n",
       "      <td>NaN</td>\n",
       "      <td>0.00</td>\n",
       "      <td>NaN</td>\n",
       "      <td>NaN</td>\n",
       "      <td>Part-Time</td>\n",
       "      <td>NaN</td>\n",
       "      <td>2013-04-12 08:36:36 UTC</td>\n",
       "      <td>2014-08-16 15:35:36 UTC</td>\n",
       "    </tr>\n",
       "    <tr>\n",
       "      <th>2</th>\n",
       "      <td>117</td>\n",
       "      <td>1</td>\n",
       "      <td>open</td>\n",
       "      <td>san-francisco-ca-machka-restaurants-corp-barte...</td>\n",
       "      <td>Bartender @ Machka Restaurants Corp.</td>\n",
       "      <td>Bartender</td>\n",
       "      <td>Machka Restaurants Corp.</td>\n",
       "      <td>San Francisco</td>\n",
       "      <td>California</td>\n",
       "      <td>CA</td>\n",
       "      <td>...</td>\n",
       "      <td>Food and Beverages</td>\n",
       "      <td>We are a popular Mediterranean wine bar and re...</td>\n",
       "      <td>NaN</td>\n",
       "      <td>11.00</td>\n",
       "      <td>NaN</td>\n",
       "      <td>NaN</td>\n",
       "      <td>Part-Time</td>\n",
       "      <td>NaN</td>\n",
       "      <td>2013-07-16 09:34:10 UTC</td>\n",
       "      <td>2014-08-16 15:35:37 UTC</td>\n",
       "    </tr>\n",
       "    <tr>\n",
       "      <th>3</th>\n",
       "      <td>121</td>\n",
       "      <td>1</td>\n",
       "      <td>open</td>\n",
       "      <td>brisbane-ca-teriyaki-house-server</td>\n",
       "      <td>Server @ Teriyaki House</td>\n",
       "      <td>Server</td>\n",
       "      <td>Teriyaki House</td>\n",
       "      <td>Brisbane</td>\n",
       "      <td>California</td>\n",
       "      <td>CA</td>\n",
       "      <td>...</td>\n",
       "      <td>Food and Beverages</td>\n",
       "      <td>● Serve food/drinks to customers in a profess...</td>\n",
       "      <td>NaN</td>\n",
       "      <td>10.55</td>\n",
       "      <td>NaN</td>\n",
       "      <td>NaN</td>\n",
       "      <td>Part-Time</td>\n",
       "      <td>NaN</td>\n",
       "      <td>2013-09-04 15:40:30 UTC</td>\n",
       "      <td>2014-08-16 15:35:38 UTC</td>\n",
       "    </tr>\n",
       "    <tr>\n",
       "      <th>4</th>\n",
       "      <td>127</td>\n",
       "      <td>1</td>\n",
       "      <td>open</td>\n",
       "      <td>los-angeles-ca-rosa-mexicano-sunset-kitchen-st...</td>\n",
       "      <td>Kitchen Staff/Chef @ Rosa Mexicano - Sunset</td>\n",
       "      <td>Kitchen Staff/Chef</td>\n",
       "      <td>Rosa Mexicano - Sunset</td>\n",
       "      <td>Los Angeles</td>\n",
       "      <td>California</td>\n",
       "      <td>CA</td>\n",
       "      <td>...</td>\n",
       "      <td>Food and Beverages</td>\n",
       "      <td>Located at the heart of Hollywood, we are one ...</td>\n",
       "      <td>NaN</td>\n",
       "      <td>10.55</td>\n",
       "      <td>NaN</td>\n",
       "      <td>NaN</td>\n",
       "      <td>Part-Time</td>\n",
       "      <td>NaN</td>\n",
       "      <td>2013-07-17 15:26:18 UTC</td>\n",
       "      <td>2014-08-16 15:35:40 UTC</td>\n",
       "    </tr>\n",
       "  </tbody>\n",
       "</table>\n",
       "<p>5 rows × 23 columns</p>\n",
       "</div>"
      ],
      "text/plain": [
       "   Job.ID  Provider Status                                               Slug  \\\n",
       "0     111         1   open                    palo-alto-ca-tacolicious-server   \n",
       "1     113         1   open    san-francisco-ca-claude-lane-kitchen-staff-chef   \n",
       "2     117         1   open  san-francisco-ca-machka-restaurants-corp-barte...   \n",
       "3     121         1   open                  brisbane-ca-teriyaki-house-server   \n",
       "4     127         1   open  los-angeles-ca-rosa-mexicano-sunset-kitchen-st...   \n",
       "\n",
       "                                         Title            Position  \\\n",
       "0                         Server @ Tacolicious              Server   \n",
       "1             Kitchen Staff/Chef @ Claude Lane  Kitchen Staff/Chef   \n",
       "2         Bartender @ Machka Restaurants Corp.           Bartender   \n",
       "3                      Server @ Teriyaki House              Server   \n",
       "4  Kitchen Staff/Chef @ Rosa Mexicano - Sunset  Kitchen Staff/Chef   \n",
       "\n",
       "                    Company           City  State.Name State.Code  ...  \\\n",
       "0               Tacolicious      Palo Alto  California         CA  ...   \n",
       "1               Claude Lane  San Francisco  California         CA  ...   \n",
       "2  Machka Restaurants Corp.  San Francisco  California         CA  ...   \n",
       "3            Teriyaki House       Brisbane  California         CA  ...   \n",
       "4    Rosa Mexicano - Sunset    Los Angeles  California         CA  ...   \n",
       "\n",
       "             Industry                                    Job.Description  \\\n",
       "0  Food and Beverages  Tacolicious' first Palo Alto store just opened...   \n",
       "1  Food and Beverages   \\r\\n\\r\\nNew French Brasserie in S.F. Financia...   \n",
       "2  Food and Beverages  We are a popular Mediterranean wine bar and re...   \n",
       "3  Food and Beverages   ● Serve food/drinks to customers in a profess...   \n",
       "4  Food and Beverages  Located at the heart of Hollywood, we are one ...   \n",
       "\n",
       "   Requirements Salary Listing.Start  Listing.End  Employment.Type  \\\n",
       "0           NaN   8.00           NaN          NaN        Part-Time   \n",
       "1           NaN   0.00           NaN          NaN        Part-Time   \n",
       "2           NaN  11.00           NaN          NaN        Part-Time   \n",
       "3           NaN  10.55           NaN          NaN        Part-Time   \n",
       "4           NaN  10.55           NaN          NaN        Part-Time   \n",
       "\n",
       "  Education.Required               Created.At               Updated.At  \n",
       "0                NaN  2013-03-12 02:08:28 UTC  2014-08-16 15:35:36 UTC  \n",
       "1                NaN  2013-04-12 08:36:36 UTC  2014-08-16 15:35:36 UTC  \n",
       "2                NaN  2013-07-16 09:34:10 UTC  2014-08-16 15:35:37 UTC  \n",
       "3                NaN  2013-09-04 15:40:30 UTC  2014-08-16 15:35:38 UTC  \n",
       "4                NaN  2013-07-17 15:26:18 UTC  2014-08-16 15:35:40 UTC  \n",
       "\n",
       "[5 rows x 23 columns]"
      ]
     },
     "execution_count": 5,
     "metadata": {},
     "output_type": "execute_result"
    }
   ],
   "source": [
    "#loading the data\n",
    "combined_jobs = pd.read_csv('datasets/Combined_Jobs_Final.csv')\n",
    "combined_jobs.head()\n"
   ]
  },
  {
   "cell_type": "code",
   "execution_count": 6,
   "metadata": {},
   "outputs": [
    {
     "data": {
      "text/plain": [
       "0                      palo-alto-ca-tacolicious-server\n",
       "1      san-francisco-ca-claude-lane-kitchen-staff-chef\n",
       "2    san-francisco-ca-machka-restaurants-corp-barte...\n",
       "3                    brisbane-ca-teriyaki-house-server\n",
       "4    los-angeles-ca-rosa-mexicano-sunset-kitchen-st...\n",
       "Name: Slug, dtype: object"
      ]
     },
     "execution_count": 6,
     "metadata": {},
     "output_type": "execute_result"
    }
   ],
   "source": [
    "combined_jobs['Slug'].head()"
   ]
  },
  {
   "cell_type": "markdown",
   "metadata": {},
   "source": [
    "Slug is like a link to the job location"
   ]
  },
  {
   "cell_type": "code",
   "execution_count": 7,
   "metadata": {},
   "outputs": [
    {
     "data": {
      "text/plain": [
       "0                           Server @ Tacolicious\n",
       "1               Kitchen Staff/Chef @ Claude Lane\n",
       "2           Bartender @ Machka Restaurants Corp.\n",
       "3                        Server @ Teriyaki House\n",
       "4    Kitchen Staff/Chef @ Rosa Mexicano - Sunset\n",
       "Name: Title, dtype: object"
      ]
     },
     "execution_count": 7,
     "metadata": {},
     "output_type": "execute_result"
    }
   ],
   "source": [
    "combined_jobs['Title'].head()"
   ]
  },
  {
   "cell_type": "markdown",
   "metadata": {},
   "source": [
    "The @ after the title shows the job location"
   ]
  },
  {
   "cell_type": "code",
   "execution_count": 8,
   "metadata": {},
   "outputs": [
    {
     "data": {
      "text/plain": [
       "0    Tacolicious' first Palo Alto store just opened...\n",
       "Name: Job.Description, dtype: object"
      ]
     },
     "execution_count": 8,
     "metadata": {},
     "output_type": "execute_result"
    }
   ],
   "source": [
    "# to view the entire row\n",
    "#pd.set_option('display.max_colwidth', None)\n",
    "\n",
    "# Reset to the default column width display\n",
    "pd.reset_option('display.max_colwidth')\n",
    "\n",
    "#quick dispaly  to the Job Description columns\n",
    "combined_jobs['Job.Description'].head(1)\n",
    "\n"
   ]
  },
  {
   "cell_type": "markdown",
   "metadata": {},
   "source": [
    "Job decription is what the recruit will entirely like the first example in our data is:\n",
    "\n",
    "*Tacolicious' first Palo Alto store just opened recently, and we are hiring! If you love tacos, you will love working at our restaurant!* \n",
    "\n",
    "*● Serve food/drinks to customers in a professional manner*\n",
    "\n",
    "*● Act as a cashier when needed*\n",
    "\n",
    "*● Clean up the dining space*\n",
    "\n",
    "*● Train the new staff*\n",
    "\n",
    "*Name: Job.Description, dtype: object*"
   ]
  },
  {
   "cell_type": "code",
   "execution_count": 9,
   "metadata": {},
   "outputs": [
    {
     "data": {
      "text/plain": [
       "(84090, 23)"
      ]
     },
     "execution_count": 9,
     "metadata": {},
     "output_type": "execute_result"
    }
   ],
   "source": [
    "combined_jobs.shape"
   ]
  },
  {
   "cell_type": "code",
   "execution_count": 10,
   "metadata": {},
   "outputs": [
    {
     "data": {
      "text/plain": [
       "Index(['Job.ID', 'Provider', 'Status', 'Slug', 'Title', 'Position', 'Company',\n",
       "       'City', 'State.Name', 'State.Code', 'Address', 'Latitude', 'Longitude',\n",
       "       'Industry', 'Job.Description', 'Requirements', 'Salary',\n",
       "       'Listing.Start', 'Listing.End', 'Employment.Type', 'Education.Required',\n",
       "       'Created.At', 'Updated.At'],\n",
       "      dtype='object')"
      ]
     },
     "execution_count": 10,
     "metadata": {},
     "output_type": "execute_result"
    }
   ],
   "source": [
    "combined_jobs.columns"
   ]
  },
  {
   "cell_type": "code",
   "execution_count": 11,
   "metadata": {},
   "outputs": [
    {
     "name": "stdout",
     "output_type": "stream",
     "text": [
      "<class 'pandas.core.frame.DataFrame'>\n",
      "RangeIndex: 84090 entries, 0 to 84089\n",
      "Data columns (total 23 columns):\n",
      " #   Column              Non-Null Count  Dtype  \n",
      "---  ------              --------------  -----  \n",
      " 0   Job.ID              84090 non-null  int64  \n",
      " 1   Provider            84090 non-null  int64  \n",
      " 2   Status              84090 non-null  object \n",
      " 3   Slug                84090 non-null  object \n",
      " 4   Title               84090 non-null  object \n",
      " 5   Position            84090 non-null  object \n",
      " 6   Company             81819 non-null  object \n",
      " 7   City                83955 non-null  object \n",
      " 8   State.Name          83919 non-null  object \n",
      " 9   State.Code          83919 non-null  object \n",
      " 10  Address             36 non-null     object \n",
      " 11  Latitude            84090 non-null  float64\n",
      " 12  Longitude           84090 non-null  float64\n",
      " 13  Industry            267 non-null    object \n",
      " 14  Job.Description     84034 non-null  object \n",
      " 15  Requirements        0 non-null      float64\n",
      " 16  Salary              229 non-null    float64\n",
      " 17  Listing.Start       83407 non-null  object \n",
      " 18  Listing.End         83923 non-null  object \n",
      " 19  Employment.Type     84080 non-null  object \n",
      " 20  Education.Required  83823 non-null  object \n",
      " 21  Created.At          84090 non-null  object \n",
      " 22  Updated.At          84090 non-null  object \n",
      "dtypes: float64(4), int64(2), object(17)\n",
      "memory usage: 14.8+ MB\n"
     ]
    }
   ],
   "source": [
    "combined_jobs.info()"
   ]
  },
  {
   "cell_type": "code",
   "execution_count": 12,
   "metadata": {},
   "outputs": [
    {
     "data": {
      "text/html": [
       "<div>\n",
       "<style scoped>\n",
       "    .dataframe tbody tr th:only-of-type {\n",
       "        vertical-align: middle;\n",
       "    }\n",
       "\n",
       "    .dataframe tbody tr th {\n",
       "        vertical-align: top;\n",
       "    }\n",
       "\n",
       "    .dataframe thead th {\n",
       "        text-align: right;\n",
       "    }\n",
       "</style>\n",
       "<table border=\"1\" class=\"dataframe\">\n",
       "  <thead>\n",
       "    <tr style=\"text-align: right;\">\n",
       "      <th></th>\n",
       "      <th>Job.ID</th>\n",
       "      <th>Provider</th>\n",
       "      <th>Latitude</th>\n",
       "      <th>Longitude</th>\n",
       "      <th>Requirements</th>\n",
       "      <th>Salary</th>\n",
       "    </tr>\n",
       "  </thead>\n",
       "  <tbody>\n",
       "    <tr>\n",
       "      <th>count</th>\n",
       "      <td>84090.000000</td>\n",
       "      <td>84090.000000</td>\n",
       "      <td>84090.000000</td>\n",
       "      <td>84090.000000</td>\n",
       "      <td>0.0</td>\n",
       "      <td>229.000000</td>\n",
       "    </tr>\n",
       "    <tr>\n",
       "      <th>mean</th>\n",
       "      <td>258490.774979</td>\n",
       "      <td>1.997063</td>\n",
       "      <td>37.967134</td>\n",
       "      <td>-92.151257</td>\n",
       "      <td>NaN</td>\n",
       "      <td>7.832227</td>\n",
       "    </tr>\n",
       "    <tr>\n",
       "      <th>std</th>\n",
       "      <td>52653.870401</td>\n",
       "      <td>0.056272</td>\n",
       "      <td>5.458651</td>\n",
       "      <td>17.412900</td>\n",
       "      <td>NaN</td>\n",
       "      <td>7.566016</td>\n",
       "    </tr>\n",
       "    <tr>\n",
       "      <th>min</th>\n",
       "      <td>3.000000</td>\n",
       "      <td>1.000000</td>\n",
       "      <td>-34.887672</td>\n",
       "      <td>-166.539760</td>\n",
       "      <td>NaN</td>\n",
       "      <td>0.000000</td>\n",
       "    </tr>\n",
       "    <tr>\n",
       "      <th>25%</th>\n",
       "      <td>250415.250000</td>\n",
       "      <td>2.000000</td>\n",
       "      <td>34.072600</td>\n",
       "      <td>-104.249780</td>\n",
       "      <td>NaN</td>\n",
       "      <td>0.000000</td>\n",
       "    </tr>\n",
       "    <tr>\n",
       "      <th>50%</th>\n",
       "      <td>271452.500000</td>\n",
       "      <td>2.000000</td>\n",
       "      <td>39.218300</td>\n",
       "      <td>-86.941440</td>\n",
       "      <td>NaN</td>\n",
       "      <td>8.000000</td>\n",
       "    </tr>\n",
       "    <tr>\n",
       "      <th>75%</th>\n",
       "      <td>293672.750000</td>\n",
       "      <td>2.000000</td>\n",
       "      <td>41.598965</td>\n",
       "      <td>-79.997460</td>\n",
       "      <td>NaN</td>\n",
       "      <td>10.550000</td>\n",
       "    </tr>\n",
       "    <tr>\n",
       "      <th>max</th>\n",
       "      <td>319174.000000</td>\n",
       "      <td>3.000000</td>\n",
       "      <td>71.294700</td>\n",
       "      <td>144.885800</td>\n",
       "      <td>NaN</td>\n",
       "      <td>58.000000</td>\n",
       "    </tr>\n",
       "  </tbody>\n",
       "</table>\n",
       "</div>"
      ],
      "text/plain": [
       "              Job.ID      Provider      Latitude     Longitude  Requirements  \\\n",
       "count   84090.000000  84090.000000  84090.000000  84090.000000           0.0   \n",
       "mean   258490.774979      1.997063     37.967134    -92.151257           NaN   \n",
       "std     52653.870401      0.056272      5.458651     17.412900           NaN   \n",
       "min         3.000000      1.000000    -34.887672   -166.539760           NaN   \n",
       "25%    250415.250000      2.000000     34.072600   -104.249780           NaN   \n",
       "50%    271452.500000      2.000000     39.218300    -86.941440           NaN   \n",
       "75%    293672.750000      2.000000     41.598965    -79.997460           NaN   \n",
       "max    319174.000000      3.000000     71.294700    144.885800           NaN   \n",
       "\n",
       "           Salary  \n",
       "count  229.000000  \n",
       "mean     7.832227  \n",
       "std      7.566016  \n",
       "min      0.000000  \n",
       "25%      0.000000  \n",
       "50%      8.000000  \n",
       "75%     10.550000  \n",
       "max     58.000000  "
      ]
     },
     "execution_count": 12,
     "metadata": {},
     "output_type": "execute_result"
    }
   ],
   "source": [
    "combined_jobs.describe()"
   ]
  },
  {
   "cell_type": "markdown",
   "metadata": {},
   "source": [
    "#### ***Data Cleaning***"
   ]
  },
  {
   "cell_type": "code",
   "execution_count": 13,
   "metadata": {},
   "outputs": [
    {
     "data": {
      "text/plain": [
       "Requirements          100.000000\n",
       "Address                99.957189\n",
       "Salary                 99.727673\n",
       "Industry               99.682483\n",
       "Company                 2.700678\n",
       "Listing.Start           0.812225\n",
       "Education.Required      0.317517\n",
       "State.Code              0.203354\n",
       "State.Name              0.203354\n",
       "Listing.End             0.198597\n",
       "City                    0.160542\n",
       "Job.Description         0.066595\n",
       "Employment.Type         0.011892\n",
       "Job.ID                  0.000000\n",
       "Provider                0.000000\n",
       "Position                0.000000\n",
       "Title                   0.000000\n",
       "Slug                    0.000000\n",
       "Status                  0.000000\n",
       "Latitude                0.000000\n",
       "Longitude               0.000000\n",
       "Created.At              0.000000\n",
       "Updated.At              0.000000\n",
       "dtype: float64"
      ]
     },
     "execution_count": 13,
     "metadata": {},
     "output_type": "execute_result"
    }
   ],
   "source": [
    "#checking the percentage of null values in every column\n",
    "combined_jobs.isnull().sum().sort_values(ascending=False) / len(combined_jobs) * 100"
   ]
  },
  {
   "cell_type": "code",
   "execution_count": 14,
   "metadata": {},
   "outputs": [
    {
     "name": "stderr",
     "output_type": "stream",
     "text": [
      "C:\\Users\\PHIL CONRAD\\AppData\\Local\\Temp\\ipykernel_23108\\2473218848.py:10: FutureWarning: A value is trying to be set on a copy of a DataFrame or Series through chained assignment using an inplace method.\n",
      "The behavior will change in pandas 3.0. This inplace method will never work because the intermediate object on which we are setting values always behaves as a copy.\n",
      "\n",
      "For example, when doing 'df[col].method(value, inplace=True)', try using 'df.method({col: value}, inplace=True)' or df[col] = df[col].method(value) instead, to perform the operation inplace on the original object.\n",
      "\n",
      "\n",
      "  combined_jobs[column].fillna(combined_jobs[column].mode()[0], inplace=True)\n"
     ]
    }
   ],
   "source": [
    "#columns to drop\n",
    "columns_to_drop = ['Requirements', 'Address', 'Salary', 'Industry', 'Created.At', 'Updated.At']\n",
    "#dropping columns\n",
    "combined_jobs = combined_jobs.drop(columns=columns_to_drop)\n",
    "\n",
    "\n",
    "#replacing missing values with the mode for specific columns\n",
    "for column in ['Listing.Start', 'Education.Required', 'State.Code', 'State.Name', \n",
    "               'Listing.End', 'City', 'Employment.Type']:\n",
    "    combined_jobs[column].fillna(combined_jobs[column].mode()[0], inplace=True)\n",
    "\n",
    "\n",
    "#dropping rows of the company, job description that have missing values\n",
    "combined_jobs = combined_jobs.dropna(subset=['Company', 'Job.Description'])"
   ]
  },
  {
   "cell_type": "code",
   "execution_count": 15,
   "metadata": {},
   "outputs": [
    {
     "data": {
      "text/plain": [
       "Job.ID                0\n",
       "Provider              0\n",
       "Status                0\n",
       "Slug                  0\n",
       "Title                 0\n",
       "Position              0\n",
       "Company               0\n",
       "City                  0\n",
       "State.Name            0\n",
       "State.Code            0\n",
       "Latitude              0\n",
       "Longitude             0\n",
       "Job.Description       0\n",
       "Listing.Start         0\n",
       "Listing.End           0\n",
       "Employment.Type       0\n",
       "Education.Required    0\n",
       "dtype: int64"
      ]
     },
     "execution_count": 15,
     "metadata": {},
     "output_type": "execute_result"
    }
   ],
   "source": [
    "combined_jobs.isnull().sum()"
   ]
  },
  {
   "cell_type": "code",
   "execution_count": 16,
   "metadata": {},
   "outputs": [
    {
     "data": {
      "text/plain": [
       "np.int64(0)"
      ]
     },
     "execution_count": 16,
     "metadata": {},
     "output_type": "execute_result"
    }
   ],
   "source": [
    "#checking duplicated values esp for JobID\n",
    "combined_jobs.duplicated().sum()"
   ]
  },
  {
   "cell_type": "code",
   "execution_count": 17,
   "metadata": {},
   "outputs": [
    {
     "data": {
      "text/html": [
       "<div>\n",
       "<style scoped>\n",
       "    .dataframe tbody tr th:only-of-type {\n",
       "        vertical-align: middle;\n",
       "    }\n",
       "\n",
       "    .dataframe tbody tr th {\n",
       "        vertical-align: top;\n",
       "    }\n",
       "\n",
       "    .dataframe thead th {\n",
       "        text-align: right;\n",
       "    }\n",
       "</style>\n",
       "<table border=\"1\" class=\"dataframe\">\n",
       "  <thead>\n",
       "    <tr style=\"text-align: right;\">\n",
       "      <th></th>\n",
       "      <th>Job.ID</th>\n",
       "      <th>Provider</th>\n",
       "      <th>Status</th>\n",
       "      <th>Slug</th>\n",
       "      <th>Title</th>\n",
       "      <th>Position</th>\n",
       "      <th>Company</th>\n",
       "      <th>City</th>\n",
       "      <th>State.Name</th>\n",
       "      <th>State.Code</th>\n",
       "      <th>Latitude</th>\n",
       "      <th>Longitude</th>\n",
       "      <th>Job.Description</th>\n",
       "      <th>Listing.Start</th>\n",
       "      <th>Listing.End</th>\n",
       "      <th>Employment.Type</th>\n",
       "      <th>Education.Required</th>\n",
       "    </tr>\n",
       "  </thead>\n",
       "  <tbody>\n",
       "    <tr>\n",
       "      <th>0</th>\n",
       "      <td>111</td>\n",
       "      <td>1</td>\n",
       "      <td>open</td>\n",
       "      <td>palo-alto-ca-tacolicious-server</td>\n",
       "      <td>Server @ Tacolicious</td>\n",
       "      <td>Server</td>\n",
       "      <td>Tacolicious</td>\n",
       "      <td>Palo Alto</td>\n",
       "      <td>California</td>\n",
       "      <td>CA</td>\n",
       "      <td>37.443346</td>\n",
       "      <td>-122.161170</td>\n",
       "      <td>Tacolicious' first Palo Alto store just opened...</td>\n",
       "      <td>03-03-2015</td>\n",
       "      <td>01-04-2015</td>\n",
       "      <td>Part-Time</td>\n",
       "      <td>Not Specified</td>\n",
       "    </tr>\n",
       "    <tr>\n",
       "      <th>1</th>\n",
       "      <td>113</td>\n",
       "      <td>1</td>\n",
       "      <td>open</td>\n",
       "      <td>san-francisco-ca-claude-lane-kitchen-staff-chef</td>\n",
       "      <td>Kitchen Staff/Chef @ Claude Lane</td>\n",
       "      <td>Kitchen Staff/Chef</td>\n",
       "      <td>Claude Lane</td>\n",
       "      <td>San Francisco</td>\n",
       "      <td>California</td>\n",
       "      <td>CA</td>\n",
       "      <td>37.789830</td>\n",
       "      <td>-122.404268</td>\n",
       "      <td>\\r\\n\\r\\nNew French Brasserie in S.F. Financia...</td>\n",
       "      <td>03-03-2015</td>\n",
       "      <td>01-04-2015</td>\n",
       "      <td>Part-Time</td>\n",
       "      <td>Not Specified</td>\n",
       "    </tr>\n",
       "    <tr>\n",
       "      <th>2</th>\n",
       "      <td>117</td>\n",
       "      <td>1</td>\n",
       "      <td>open</td>\n",
       "      <td>san-francisco-ca-machka-restaurants-corp-barte...</td>\n",
       "      <td>Bartender @ Machka Restaurants Corp.</td>\n",
       "      <td>Bartender</td>\n",
       "      <td>Machka Restaurants Corp.</td>\n",
       "      <td>San Francisco</td>\n",
       "      <td>California</td>\n",
       "      <td>CA</td>\n",
       "      <td>37.795597</td>\n",
       "      <td>-122.402963</td>\n",
       "      <td>We are a popular Mediterranean wine bar and re...</td>\n",
       "      <td>03-03-2015</td>\n",
       "      <td>01-04-2015</td>\n",
       "      <td>Part-Time</td>\n",
       "      <td>Not Specified</td>\n",
       "    </tr>\n",
       "    <tr>\n",
       "      <th>3</th>\n",
       "      <td>121</td>\n",
       "      <td>1</td>\n",
       "      <td>open</td>\n",
       "      <td>brisbane-ca-teriyaki-house-server</td>\n",
       "      <td>Server @ Teriyaki House</td>\n",
       "      <td>Server</td>\n",
       "      <td>Teriyaki House</td>\n",
       "      <td>Brisbane</td>\n",
       "      <td>California</td>\n",
       "      <td>CA</td>\n",
       "      <td>37.685073</td>\n",
       "      <td>-122.400275</td>\n",
       "      <td>● Serve food/drinks to customers in a profess...</td>\n",
       "      <td>03-03-2015</td>\n",
       "      <td>01-04-2015</td>\n",
       "      <td>Part-Time</td>\n",
       "      <td>Not Specified</td>\n",
       "    </tr>\n",
       "    <tr>\n",
       "      <th>4</th>\n",
       "      <td>127</td>\n",
       "      <td>1</td>\n",
       "      <td>open</td>\n",
       "      <td>los-angeles-ca-rosa-mexicano-sunset-kitchen-st...</td>\n",
       "      <td>Kitchen Staff/Chef @ Rosa Mexicano - Sunset</td>\n",
       "      <td>Kitchen Staff/Chef</td>\n",
       "      <td>Rosa Mexicano - Sunset</td>\n",
       "      <td>Los Angeles</td>\n",
       "      <td>California</td>\n",
       "      <td>CA</td>\n",
       "      <td>34.073384</td>\n",
       "      <td>-118.460439</td>\n",
       "      <td>Located at the heart of Hollywood, we are one ...</td>\n",
       "      <td>03-03-2015</td>\n",
       "      <td>01-04-2015</td>\n",
       "      <td>Part-Time</td>\n",
       "      <td>Not Specified</td>\n",
       "    </tr>\n",
       "  </tbody>\n",
       "</table>\n",
       "</div>"
      ],
      "text/plain": [
       "   Job.ID  Provider Status                                               Slug  \\\n",
       "0     111         1   open                    palo-alto-ca-tacolicious-server   \n",
       "1     113         1   open    san-francisco-ca-claude-lane-kitchen-staff-chef   \n",
       "2     117         1   open  san-francisco-ca-machka-restaurants-corp-barte...   \n",
       "3     121         1   open                  brisbane-ca-teriyaki-house-server   \n",
       "4     127         1   open  los-angeles-ca-rosa-mexicano-sunset-kitchen-st...   \n",
       "\n",
       "                                         Title            Position  \\\n",
       "0                         Server @ Tacolicious              Server   \n",
       "1             Kitchen Staff/Chef @ Claude Lane  Kitchen Staff/Chef   \n",
       "2         Bartender @ Machka Restaurants Corp.           Bartender   \n",
       "3                      Server @ Teriyaki House              Server   \n",
       "4  Kitchen Staff/Chef @ Rosa Mexicano - Sunset  Kitchen Staff/Chef   \n",
       "\n",
       "                    Company           City  State.Name State.Code   Latitude  \\\n",
       "0               Tacolicious      Palo Alto  California         CA  37.443346   \n",
       "1               Claude Lane  San Francisco  California         CA  37.789830   \n",
       "2  Machka Restaurants Corp.  San Francisco  California         CA  37.795597   \n",
       "3            Teriyaki House       Brisbane  California         CA  37.685073   \n",
       "4    Rosa Mexicano - Sunset    Los Angeles  California         CA  34.073384   \n",
       "\n",
       "    Longitude                                    Job.Description  \\\n",
       "0 -122.161170  Tacolicious' first Palo Alto store just opened...   \n",
       "1 -122.404268   \\r\\n\\r\\nNew French Brasserie in S.F. Financia...   \n",
       "2 -122.402963  We are a popular Mediterranean wine bar and re...   \n",
       "3 -122.400275   ● Serve food/drinks to customers in a profess...   \n",
       "4 -118.460439  Located at the heart of Hollywood, we are one ...   \n",
       "\n",
       "  Listing.Start Listing.End Employment.Type Education.Required  \n",
       "0    03-03-2015  01-04-2015       Part-Time      Not Specified  \n",
       "1    03-03-2015  01-04-2015       Part-Time      Not Specified  \n",
       "2    03-03-2015  01-04-2015       Part-Time      Not Specified  \n",
       "3    03-03-2015  01-04-2015       Part-Time      Not Specified  \n",
       "4    03-03-2015  01-04-2015       Part-Time      Not Specified  "
      ]
     },
     "execution_count": 17,
     "metadata": {},
     "output_type": "execute_result"
    }
   ],
   "source": [
    "combined_jobs.head()"
   ]
  },
  {
   "cell_type": "code",
   "execution_count": 18,
   "metadata": {},
   "outputs": [],
   "source": [
    "#add to removals \n",
    "combined_jobs = combined_jobs.drop(columns=['Listing.End', 'Listing.Start', 'Latitude', 'Longitude', \n",
    "                                            'State.Code', 'Status', 'Title', 'Slug'])"
   ]
  },
  {
   "cell_type": "code",
   "execution_count": 19,
   "metadata": {},
   "outputs": [
    {
     "data": {
      "text/plain": [
       "(81766, 9)"
      ]
     },
     "execution_count": 19,
     "metadata": {},
     "output_type": "execute_result"
    }
   ],
   "source": [
    "combined_jobs.shape"
   ]
  },
  {
   "cell_type": "code",
   "execution_count": 20,
   "metadata": {},
   "outputs": [
    {
     "data": {
      "text/html": [
       "<div>\n",
       "<style scoped>\n",
       "    .dataframe tbody tr th:only-of-type {\n",
       "        vertical-align: middle;\n",
       "    }\n",
       "\n",
       "    .dataframe tbody tr th {\n",
       "        vertical-align: top;\n",
       "    }\n",
       "\n",
       "    .dataframe thead th {\n",
       "        text-align: right;\n",
       "    }\n",
       "</style>\n",
       "<table border=\"1\" class=\"dataframe\">\n",
       "  <thead>\n",
       "    <tr style=\"text-align: right;\">\n",
       "      <th></th>\n",
       "      <th>Job.ID</th>\n",
       "      <th>Provider</th>\n",
       "      <th>Position</th>\n",
       "      <th>Company</th>\n",
       "      <th>City</th>\n",
       "      <th>State.Name</th>\n",
       "      <th>Job.Description</th>\n",
       "      <th>Employment.Type</th>\n",
       "      <th>Education.Required</th>\n",
       "    </tr>\n",
       "  </thead>\n",
       "  <tbody>\n",
       "    <tr>\n",
       "      <th>0</th>\n",
       "      <td>111</td>\n",
       "      <td>1</td>\n",
       "      <td>Server</td>\n",
       "      <td>Tacolicious</td>\n",
       "      <td>Palo Alto</td>\n",
       "      <td>California</td>\n",
       "      <td>Tacolicious' first Palo Alto store just opened...</td>\n",
       "      <td>Part-Time</td>\n",
       "      <td>Not Specified</td>\n",
       "    </tr>\n",
       "    <tr>\n",
       "      <th>1</th>\n",
       "      <td>113</td>\n",
       "      <td>1</td>\n",
       "      <td>Kitchen Staff/Chef</td>\n",
       "      <td>Claude Lane</td>\n",
       "      <td>San Francisco</td>\n",
       "      <td>California</td>\n",
       "      <td>\\r\\n\\r\\nNew French Brasserie in S.F. Financia...</td>\n",
       "      <td>Part-Time</td>\n",
       "      <td>Not Specified</td>\n",
       "    </tr>\n",
       "    <tr>\n",
       "      <th>2</th>\n",
       "      <td>117</td>\n",
       "      <td>1</td>\n",
       "      <td>Bartender</td>\n",
       "      <td>Machka Restaurants Corp.</td>\n",
       "      <td>San Francisco</td>\n",
       "      <td>California</td>\n",
       "      <td>We are a popular Mediterranean wine bar and re...</td>\n",
       "      <td>Part-Time</td>\n",
       "      <td>Not Specified</td>\n",
       "    </tr>\n",
       "    <tr>\n",
       "      <th>3</th>\n",
       "      <td>121</td>\n",
       "      <td>1</td>\n",
       "      <td>Server</td>\n",
       "      <td>Teriyaki House</td>\n",
       "      <td>Brisbane</td>\n",
       "      <td>California</td>\n",
       "      <td>● Serve food/drinks to customers in a profess...</td>\n",
       "      <td>Part-Time</td>\n",
       "      <td>Not Specified</td>\n",
       "    </tr>\n",
       "    <tr>\n",
       "      <th>4</th>\n",
       "      <td>127</td>\n",
       "      <td>1</td>\n",
       "      <td>Kitchen Staff/Chef</td>\n",
       "      <td>Rosa Mexicano - Sunset</td>\n",
       "      <td>Los Angeles</td>\n",
       "      <td>California</td>\n",
       "      <td>Located at the heart of Hollywood, we are one ...</td>\n",
       "      <td>Part-Time</td>\n",
       "      <td>Not Specified</td>\n",
       "    </tr>\n",
       "  </tbody>\n",
       "</table>\n",
       "</div>"
      ],
      "text/plain": [
       "   Job.ID  Provider            Position                   Company  \\\n",
       "0     111         1              Server               Tacolicious   \n",
       "1     113         1  Kitchen Staff/Chef               Claude Lane   \n",
       "2     117         1           Bartender  Machka Restaurants Corp.   \n",
       "3     121         1              Server            Teriyaki House   \n",
       "4     127         1  Kitchen Staff/Chef    Rosa Mexicano - Sunset   \n",
       "\n",
       "            City  State.Name  \\\n",
       "0      Palo Alto  California   \n",
       "1  San Francisco  California   \n",
       "2  San Francisco  California   \n",
       "3       Brisbane  California   \n",
       "4    Los Angeles  California   \n",
       "\n",
       "                                     Job.Description Employment.Type  \\\n",
       "0  Tacolicious' first Palo Alto store just opened...       Part-Time   \n",
       "1   \\r\\n\\r\\nNew French Brasserie in S.F. Financia...       Part-Time   \n",
       "2  We are a popular Mediterranean wine bar and re...       Part-Time   \n",
       "3   ● Serve food/drinks to customers in a profess...       Part-Time   \n",
       "4  Located at the heart of Hollywood, we are one ...       Part-Time   \n",
       "\n",
       "  Education.Required  \n",
       "0      Not Specified  \n",
       "1      Not Specified  \n",
       "2      Not Specified  \n",
       "3      Not Specified  \n",
       "4      Not Specified  "
      ]
     },
     "execution_count": 20,
     "metadata": {},
     "output_type": "execute_result"
    }
   ],
   "source": [
    "combined_jobs.head()"
   ]
  },
  {
   "cell_type": "code",
   "execution_count": 21,
   "metadata": {},
   "outputs": [
    {
     "data": {
      "text/plain": [
       "Employment.Type\n",
       "Part-Time              32160\n",
       "Seasonal/Temp          27389\n",
       "Full-Time/Part-Time    16759\n",
       "Per Diem                4502\n",
       "Intern                   904\n",
       "Full-Time                 37\n",
       "Contract                  14\n",
       "Temporary/seasonal         1\n",
       "Name: count, dtype: int64"
      ]
     },
     "execution_count": 21,
     "metadata": {},
     "output_type": "execute_result"
    }
   ],
   "source": [
    "combined_jobs['Employment.Type'].value_counts()"
   ]
  },
  {
   "cell_type": "code",
   "execution_count": 22,
   "metadata": {},
   "outputs": [],
   "source": [
    "combined_jobs.loc[:, \"Employment.Type\"] = combined_jobs[\"Employment.Type\"].replace([\"Temporary/seasonal\"], \"Seasonal/Temp\")"
   ]
  },
  {
   "cell_type": "code",
   "execution_count": 23,
   "metadata": {},
   "outputs": [
    {
     "data": {
      "text/plain": [
       "Employment.Type\n",
       "Part-Time              32160\n",
       "Seasonal/Temp          27390\n",
       "Full-Time/Part-Time    16759\n",
       "Per Diem                4502\n",
       "Intern                   904\n",
       "Full-Time                 37\n",
       "Contract                  14\n",
       "Name: count, dtype: int64"
      ]
     },
     "execution_count": 23,
     "metadata": {},
     "output_type": "execute_result"
    }
   ],
   "source": [
    "combined_jobs['Employment.Type'].value_counts()"
   ]
  },
  {
   "cell_type": "code",
   "execution_count": 24,
   "metadata": {},
   "outputs": [
    {
     "data": {
      "text/plain": [
       "Education.Required\n",
       "Not Specified          60919\n",
       "High School Diploma    13704\n",
       "Associate Degree        3381\n",
       "Bachelor's Degree       2753\n",
       "Master's Degree         1009\n",
       "Name: count, dtype: int64"
      ]
     },
     "execution_count": 24,
     "metadata": {},
     "output_type": "execute_result"
    }
   ],
   "source": [
    "combined_jobs['Education.Required'].value_counts()"
   ]
  },
  {
   "cell_type": "code",
   "execution_count": 25,
   "metadata": {},
   "outputs": [
    {
     "data": {
      "text/plain": [
       "Provider\n",
       "2    81499\n",
       "1      257\n",
       "3       10\n",
       "Name: count, dtype: int64"
      ]
     },
     "execution_count": 25,
     "metadata": {},
     "output_type": "execute_result"
    }
   ],
   "source": [
    "combined_jobs['Provider'].value_counts()"
   ]
  },
  {
   "cell_type": "code",
   "execution_count": 26,
   "metadata": {},
   "outputs": [
    {
     "data": {
      "text/plain": [
       "Company\n",
       "Accountemps                                     12471\n",
       "OfficeTeam                                      11423\n",
       "BAYADA HOME HEALTH CARE                          2194\n",
       "Vector Marketing                                 1681\n",
       "Macy's                                           1625\n",
       "                                                ...  \n",
       "Fior d'Italia                                       1\n",
       "Luques Restaurant inside of Chancellor Hotel        1\n",
       "JoLe                                                1\n",
       "Ajisen Ramen                                        1\n",
       "Susumu Japanese Steak House                         1\n",
       "Name: count, Length: 8334, dtype: int64"
      ]
     },
     "execution_count": 26,
     "metadata": {},
     "output_type": "execute_result"
    }
   ],
   "source": [
    "combined_jobs['Company'].value_counts()"
   ]
  },
  {
   "cell_type": "code",
   "execution_count": 27,
   "metadata": {},
   "outputs": [
    {
     "data": {
      "text/plain": [
       "Position\n",
       "Administrative Assistant                                                                            1392\n",
       "Customer Service Representative                                                                     1270\n",
       "Accounts Payable Clerk                                                                               968\n",
       "Accounting Clerk                                                                                     950\n",
       "Sales Representative / Sales Associate ( Entry Level )                                               917\n",
       "                                                                                                    ... \n",
       "Prime Time Universal Service Representative                                                            1\n",
       "Entry Level Security Officer                                                                           1\n",
       "Experienced Security Officer                                                                           1\n",
       "Receptionist Security Officer/Concierge                                                                1\n",
       "Macy's Seasonal Retail Commission Sales Women's Shoes, Part Time - Skokie, IL - Old Orchard Mall       1\n",
       "Name: count, Length: 35325, dtype: int64"
      ]
     },
     "execution_count": 27,
     "metadata": {},
     "output_type": "execute_result"
    }
   ],
   "source": [
    "combined_jobs['Position'].value_counts()"
   ]
  },
  {
   "cell_type": "code",
   "execution_count": 28,
   "metadata": {},
   "outputs": [
    {
     "data": {
      "text/plain": [
       "State.Name\n",
       "California              10761\n",
       "Florida                  5465\n",
       "Texas                    5313\n",
       "Pennsylvania             4857\n",
       "Illinois                 3960\n",
       "Ohio                     3938\n",
       "New York                 3122\n",
       "New Jersey               2757\n",
       "Minnesota                2414\n",
       "Washington               2389\n",
       "Indiana                  2351\n",
       "Massachusetts            2195\n",
       "Michigan                 2144\n",
       "North Carolina           1937\n",
       "Wisconsin                1859\n",
       "Virginia                 1760\n",
       "Arizona                  1700\n",
       "Tennessee                1672\n",
       "Maryland                 1651\n",
       "Georgia                  1641\n",
       "Colorado                 1633\n",
       "Connecticut              1365\n",
       "Missouri                 1344\n",
       "Iowa                     1146\n",
       "Oregon                   1088\n",
       "Kentucky                 1081\n",
       "Nevada                    987\n",
       "South Carolina            893\n",
       "Kansas                    798\n",
       "Louisiana                 746\n",
       "Utah                      674\n",
       "Alabama                   583\n",
       "New Hampshire             570\n",
       "Nebraska                  515\n",
       "Oklahoma                  493\n",
       "Hawaii                    395\n",
       "Delaware                  391\n",
       "New Mexico                341\n",
       "Arkansas                  313\n",
       "Idaho                     290\n",
       "District of Columbia      286\n",
       "Rhode Island              285\n",
       "Mississippi               258\n",
       "Vermont                   243\n",
       "Maine                     222\n",
       "South Dakota              213\n",
       "Montana                   210\n",
       "West Virginia             167\n",
       "Alaska                    152\n",
       "North Dakota              126\n",
       "Wyoming                    72\n",
       "Name: count, dtype: int64"
      ]
     },
     "execution_count": 28,
     "metadata": {},
     "output_type": "execute_result"
    }
   ],
   "source": [
    "combined_jobs['State.Name'].value_counts()"
   ]
  },
  {
   "cell_type": "markdown",
   "metadata": {},
   "source": [
    "#### ***Exploratory Data Analysis(Combined Data)***"
   ]
  },
  {
   "cell_type": "code",
   "execution_count": 29,
   "metadata": {},
   "outputs": [
    {
     "data": {
      "image/png": "[encoded data removed]",
      "text/plain": [
       "<Figure size 1000x600 with 1 Axes>"
      ]
     },
     "metadata": {},
     "output_type": "display_data"
    }
   ],
   "source": [
    "# Plot top 10 cities with the highest number of job listings\n",
    "plt.figure(figsize=(10, 6))\n",
    "\n",
    "# Get the top 10 cities\n",
    "top_10_cities = combined_jobs['City'].value_counts().nlargest(10).index\n",
    "\n",
    "# Filter the dataset for top 10 cities\n",
    "sns.countplot(data=combined_jobs[combined_jobs['City'].isin(top_10_cities)], \n",
    "              x='City', \n",
    "              order=top_10_cities)\n",
    "\n",
    "plt.title('Top 10 Cities by Number of Jobs')\n",
    "plt.xlabel('City')\n",
    "plt.ylabel('Number of Jobs')\n",
    "plt.xticks(rotation=45)\n",
    "plt.show()\n"
   ]
  },
  {
   "cell_type": "code",
   "execution_count": 30,
   "metadata": {},
   "outputs": [
    {
     "data": {
      "image/png": "[encoded data removed]",
      "text/plain": [
       "<Figure size 1000x600 with 1 Axes>"
      ]
     },
     "metadata": {},
     "output_type": "display_data"
    }
   ],
   "source": [
    "#top 10 positions \n",
    "top_positions = combined_jobs['Position'].value_counts().head(10)\n",
    "\n",
    "plt.figure(figsize=(10, 6))\n",
    "sns.barplot(y=top_positions.index, x=top_positions.values)\n",
    "plt.title('Top 10 positions ')\n",
    "plt.show()"
   ]
  },
  {
   "cell_type": "code",
   "execution_count": 31,
   "metadata": {},
   "outputs": [],
   "source": [
    "def plot_categorical_distribution(df, column_name, top_n=10, show_counts=True, show_percentages=True):\n",
    "    \"\"\"\n",
    "    Plots the distribution of a categorical feature with counts and/or percentages.\n",
    "    \n",
    "    \"\"\"\t\n",
    "    # Check if the column exists in the DataFrame\n",
    "    if column_name not in df.columns:\n",
    "        print(f\"Column '{column_name}' does not exist in the DataFrame.\")\n",
    "        return\n",
    "    \n",
    "    # Check if the column is categorical\n",
    "    if not pd.api.types.is_object_dtype(df[column_name]) and not pd.api.types.is_categorical_dtype(df[column_name]):\n",
    "        print(f\"Column '{column_name}' is not a categorical data type.\")\n",
    "        return\n",
    "    \n",
    "    # Drop missing values\n",
    "    data = df[column_name].dropna()\n",
    "    \n",
    "    # Calculate value counts\n",
    "    counts = data.value_counts()\n",
    "    \n",
    "    # Handle high-cardinality by selecting top_n categories\n",
    "    if len(counts) > top_n:\n",
    "        top_categories = counts.nlargest(top_n)\n",
    "        other_count = counts.sum() - top_categories.sum()\n",
    "        counts = pd.concat([top_categories, pd.Series({'Other': other_count})])\n",
    "    \n",
    "    # Calculate percentages\n",
    "    percentages = (counts / counts.sum()) * 100\n",
    "    \n",
    "    # Create a DataFrame for plotting\n",
    "    plot_df = pd.DataFrame({\n",
    "        'Category': counts.index,\n",
    "        'Count': counts.values,\n",
    "        'Percentage': percentages.values\n",
    "    })\n",
    "    \n",
    "    # Set the plot style\n",
    "    sns.set(style=\"whitegrid\")\n",
    "    \n",
    "    # Initialize the matplotlib figure\n",
    "    plt.figure(figsize=(10, 6))\n",
    "    \n",
    "    # Create a bar plot\n",
    "    barplot = sns.barplot(x='Count', y='Category', data=plot_df, palette='viridis')\n",
    "    \n",
    "    # Add count labels\n",
    "    if show_counts:\n",
    "        for index, row in plot_df.iterrows():\n",
    "            barplot.text(row['Count'] + plot_df['Count'].max()*0.01, index, \n",
    "                        f\"{row['Count']}\", color='black', va=\"center\")\n",
    "    \n",
    "    # Add percentage labels\n",
    "    if show_percentages:\n",
    "        for index, row in plot_df.iterrows():\n",
    "            barplot.text(row['Count'] + plot_df['Count'].max()*0.15, index, \n",
    "                        f\"{row['Percentage']:.2f}%\", color='black', va=\"center\")\n",
    "    \n",
    "    # Set titles and labels\n",
    "    plt.title(f'Distribution of {column_name}', fontsize=16)\n",
    "    plt.xlabel('Count', fontsize=14)\n",
    "    plt.ylabel(column_name, fontsize=14)\n",
    "    \n",
    "    plt.tight_layout()\n",
    "    plt.show();"
   ]
  },
  {
   "cell_type": "code",
   "execution_count": 32,
   "metadata": {},
   "outputs": [
    {
     "name": "stderr",
     "output_type": "stream",
     "text": [
      "C:\\Users\\PHIL CONRAD\\AppData\\Local\\Temp\\ipykernel_23108\\45243248.py:45: FutureWarning: \n",
      "\n",
      "Passing `palette` without assigning `hue` is deprecated and will be removed in v0.14.0. Assign the `y` variable to `hue` and set `legend=False` for the same effect.\n",
      "\n",
      "  barplot = sns.barplot(x='Count', y='Category', data=plot_df, palette='viridis')\n"
     ]
    },
    {
     "data": {
      "image/png": "[encoded data removed]",
      "text/plain": [
       "<Figure size 1000x600 with 1 Axes>"
      ]
     },
     "metadata": {},
     "output_type": "display_data"
    }
   ],
   "source": [
    "plot_categorical_distribution(combined_jobs, 'Position', top_n=10)"
   ]
  },
  {
   "cell_type": "code",
   "execution_count": 33,
   "metadata": {},
   "outputs": [
    {
     "name": "stderr",
     "output_type": "stream",
     "text": [
      "C:\\Users\\PHIL CONRAD\\AppData\\Local\\Temp\\ipykernel_23108\\45243248.py:45: FutureWarning: \n",
      "\n",
      "Passing `palette` without assigning `hue` is deprecated and will be removed in v0.14.0. Assign the `y` variable to `hue` and set `legend=False` for the same effect.\n",
      "\n",
      "  barplot = sns.barplot(x='Count', y='Category', data=plot_df, palette='viridis')\n"
     ]
    },
    {
     "data": {
      "image/png": "[encoded data removed]",
      "text/plain": [
       "<Figure size 1000x600 with 1 Axes>"
      ]
     },
     "metadata": {},
     "output_type": "display_data"
    }
   ],
   "source": [
    "plot_categorical_distribution(combined_jobs, 'Employment.Type', top_n=10)"
   ]
  },
  {
   "cell_type": "code",
   "execution_count": 34,
   "metadata": {},
   "outputs": [
    {
     "data": {
      "text/html": [
       "<div>\n",
       "<style scoped>\n",
       "    .dataframe tbody tr th:only-of-type {\n",
       "        vertical-align: middle;\n",
       "    }\n",
       "\n",
       "    .dataframe tbody tr th {\n",
       "        vertical-align: top;\n",
       "    }\n",
       "\n",
       "    .dataframe thead th {\n",
       "        text-align: right;\n",
       "    }\n",
       "</style>\n",
       "<table border=\"1\" class=\"dataframe\">\n",
       "  <thead>\n",
       "    <tr style=\"text-align: right;\">\n",
       "      <th></th>\n",
       "      <th>Job.ID</th>\n",
       "      <th>Provider</th>\n",
       "      <th>Position</th>\n",
       "      <th>Company</th>\n",
       "      <th>City</th>\n",
       "      <th>State.Name</th>\n",
       "      <th>Job.Description</th>\n",
       "      <th>Employment.Type</th>\n",
       "      <th>Education.Required</th>\n",
       "    </tr>\n",
       "  </thead>\n",
       "  <tbody>\n",
       "    <tr>\n",
       "      <th>0</th>\n",
       "      <td>111</td>\n",
       "      <td>1</td>\n",
       "      <td>Server</td>\n",
       "      <td>Tacolicious</td>\n",
       "      <td>Palo Alto</td>\n",
       "      <td>California</td>\n",
       "      <td>Tacolicious' first Palo Alto store just opened...</td>\n",
       "      <td>Part-Time</td>\n",
       "      <td>Not Specified</td>\n",
       "    </tr>\n",
       "    <tr>\n",
       "      <th>1</th>\n",
       "      <td>113</td>\n",
       "      <td>1</td>\n",
       "      <td>Kitchen Staff/Chef</td>\n",
       "      <td>Claude Lane</td>\n",
       "      <td>San Francisco</td>\n",
       "      <td>California</td>\n",
       "      <td>\\r\\n\\r\\nNew French Brasserie in S.F. Financia...</td>\n",
       "      <td>Part-Time</td>\n",
       "      <td>Not Specified</td>\n",
       "    </tr>\n",
       "    <tr>\n",
       "      <th>2</th>\n",
       "      <td>117</td>\n",
       "      <td>1</td>\n",
       "      <td>Bartender</td>\n",
       "      <td>Machka Restaurants Corp.</td>\n",
       "      <td>San Francisco</td>\n",
       "      <td>California</td>\n",
       "      <td>We are a popular Mediterranean wine bar and re...</td>\n",
       "      <td>Part-Time</td>\n",
       "      <td>Not Specified</td>\n",
       "    </tr>\n",
       "    <tr>\n",
       "      <th>3</th>\n",
       "      <td>121</td>\n",
       "      <td>1</td>\n",
       "      <td>Server</td>\n",
       "      <td>Teriyaki House</td>\n",
       "      <td>Brisbane</td>\n",
       "      <td>California</td>\n",
       "      <td>● Serve food/drinks to customers in a profess...</td>\n",
       "      <td>Part-Time</td>\n",
       "      <td>Not Specified</td>\n",
       "    </tr>\n",
       "    <tr>\n",
       "      <th>4</th>\n",
       "      <td>127</td>\n",
       "      <td>1</td>\n",
       "      <td>Kitchen Staff/Chef</td>\n",
       "      <td>Rosa Mexicano - Sunset</td>\n",
       "      <td>Los Angeles</td>\n",
       "      <td>California</td>\n",
       "      <td>Located at the heart of Hollywood, we are one ...</td>\n",
       "      <td>Part-Time</td>\n",
       "      <td>Not Specified</td>\n",
       "    </tr>\n",
       "  </tbody>\n",
       "</table>\n",
       "</div>"
      ],
      "text/plain": [
       "   Job.ID  Provider            Position                   Company  \\\n",
       "0     111         1              Server               Tacolicious   \n",
       "1     113         1  Kitchen Staff/Chef               Claude Lane   \n",
       "2     117         1           Bartender  Machka Restaurants Corp.   \n",
       "3     121         1              Server            Teriyaki House   \n",
       "4     127         1  Kitchen Staff/Chef    Rosa Mexicano - Sunset   \n",
       "\n",
       "            City  State.Name  \\\n",
       "0      Palo Alto  California   \n",
       "1  San Francisco  California   \n",
       "2  San Francisco  California   \n",
       "3       Brisbane  California   \n",
       "4    Los Angeles  California   \n",
       "\n",
       "                                     Job.Description Employment.Type  \\\n",
       "0  Tacolicious' first Palo Alto store just opened...       Part-Time   \n",
       "1   \\r\\n\\r\\nNew French Brasserie in S.F. Financia...       Part-Time   \n",
       "2  We are a popular Mediterranean wine bar and re...       Part-Time   \n",
       "3   ● Serve food/drinks to customers in a profess...       Part-Time   \n",
       "4  Located at the heart of Hollywood, we are one ...       Part-Time   \n",
       "\n",
       "  Education.Required  \n",
       "0      Not Specified  \n",
       "1      Not Specified  \n",
       "2      Not Specified  \n",
       "3      Not Specified  \n",
       "4      Not Specified  "
      ]
     },
     "execution_count": 34,
     "metadata": {},
     "output_type": "execute_result"
    }
   ],
   "source": [
    "combined_jobs.head()"
   ]
  },
  {
   "cell_type": "code",
   "execution_count": 35,
   "metadata": {},
   "outputs": [
    {
     "data": {
      "text/html": [
       "<div>\n",
       "<style scoped>\n",
       "    .dataframe tbody tr th:only-of-type {\n",
       "        vertical-align: middle;\n",
       "    }\n",
       "\n",
       "    .dataframe tbody tr th {\n",
       "        vertical-align: top;\n",
       "    }\n",
       "\n",
       "    .dataframe thead th {\n",
       "        text-align: right;\n",
       "    }\n",
       "</style>\n",
       "<table border=\"1\" class=\"dataframe\">\n",
       "  <thead>\n",
       "    <tr style=\"text-align: right;\">\n",
       "      <th></th>\n",
       "      <th>Job_ID</th>\n",
       "      <th>Position</th>\n",
       "      <th>Company</th>\n",
       "      <th>City</th>\n",
       "      <th>State_Name</th>\n",
       "      <th>Education_Required</th>\n",
       "      <th>Employment_Type</th>\n",
       "      <th>Job_Description</th>\n",
       "    </tr>\n",
       "  </thead>\n",
       "  <tbody>\n",
       "    <tr>\n",
       "      <th>0</th>\n",
       "      <td>111</td>\n",
       "      <td>Server</td>\n",
       "      <td>Tacolicious</td>\n",
       "      <td>Palo Alto</td>\n",
       "      <td>California</td>\n",
       "      <td>Not Specified</td>\n",
       "      <td>Part-Time</td>\n",
       "      <td>Tacolicious' first Palo Alto store just opened...</td>\n",
       "    </tr>\n",
       "    <tr>\n",
       "      <th>1</th>\n",
       "      <td>113</td>\n",
       "      <td>Kitchen Staff/Chef</td>\n",
       "      <td>Claude Lane</td>\n",
       "      <td>San Francisco</td>\n",
       "      <td>California</td>\n",
       "      <td>Not Specified</td>\n",
       "      <td>Part-Time</td>\n",
       "      <td>\\r\\n\\r\\nNew French Brasserie in S.F. Financia...</td>\n",
       "    </tr>\n",
       "    <tr>\n",
       "      <th>2</th>\n",
       "      <td>117</td>\n",
       "      <td>Bartender</td>\n",
       "      <td>Machka Restaurants Corp.</td>\n",
       "      <td>San Francisco</td>\n",
       "      <td>California</td>\n",
       "      <td>Not Specified</td>\n",
       "      <td>Part-Time</td>\n",
       "      <td>We are a popular Mediterranean wine bar and re...</td>\n",
       "    </tr>\n",
       "    <tr>\n",
       "      <th>3</th>\n",
       "      <td>121</td>\n",
       "      <td>Server</td>\n",
       "      <td>Teriyaki House</td>\n",
       "      <td>Brisbane</td>\n",
       "      <td>California</td>\n",
       "      <td>Not Specified</td>\n",
       "      <td>Part-Time</td>\n",
       "      <td>● Serve food/drinks to customers in a profess...</td>\n",
       "    </tr>\n",
       "    <tr>\n",
       "      <th>4</th>\n",
       "      <td>127</td>\n",
       "      <td>Kitchen Staff/Chef</td>\n",
       "      <td>Rosa Mexicano - Sunset</td>\n",
       "      <td>Los Angeles</td>\n",
       "      <td>California</td>\n",
       "      <td>Not Specified</td>\n",
       "      <td>Part-Time</td>\n",
       "      <td>Located at the heart of Hollywood, we are one ...</td>\n",
       "    </tr>\n",
       "  </tbody>\n",
       "</table>\n",
       "</div>"
      ],
      "text/plain": [
       "   Job_ID            Position                   Company           City  \\\n",
       "0     111              Server               Tacolicious      Palo Alto   \n",
       "1     113  Kitchen Staff/Chef               Claude Lane  San Francisco   \n",
       "2     117           Bartender  Machka Restaurants Corp.  San Francisco   \n",
       "3     121              Server            Teriyaki House       Brisbane   \n",
       "4     127  Kitchen Staff/Chef    Rosa Mexicano - Sunset    Los Angeles   \n",
       "\n",
       "   State_Name Education_Required Employment_Type  \\\n",
       "0  California      Not Specified       Part-Time   \n",
       "1  California      Not Specified       Part-Time   \n",
       "2  California      Not Specified       Part-Time   \n",
       "3  California      Not Specified       Part-Time   \n",
       "4  California      Not Specified       Part-Time   \n",
       "\n",
       "                                     Job_Description  \n",
       "0  Tacolicious' first Palo Alto store just opened...  \n",
       "1   \\r\\n\\r\\nNew French Brasserie in S.F. Financia...  \n",
       "2  We are a popular Mediterranean wine bar and re...  \n",
       "3   ● Serve food/drinks to customers in a profess...  \n",
       "4  Located at the heart of Hollywood, we are one ...  "
      ]
     },
     "execution_count": 35,
     "metadata": {},
     "output_type": "execute_result"
    }
   ],
   "source": [
    "cols = [\"Job.ID\", \"Position\", \"Company\", \"City\", \"State.Name\", \n",
    "         \"Education.Required\", \"Employment.Type\", \"Job.Description\"]\n",
    "\n",
    "# Select and rename columns in one step\n",
    "combined_jobs = combined_jobs[cols].rename(columns={\n",
    "    \"Job.ID\": \"Job_ID\",\n",
    "    \"State.Name\": \"State_Name\",\n",
    "    \"Employment.Type\": \"Employment_Type\",\n",
    "    \"Job.Description\": \"Job_Description\",\n",
    "    \"Education.Required\": \"Education_Required\"\n",
    "})\n",
    "\n",
    "# Display the first few rows\n",
    "combined_jobs.head()\n"
   ]
  },
  {
   "cell_type": "code",
   "execution_count": 36,
   "metadata": {},
   "outputs": [],
   "source": [
    "#Text Preprocessing\n",
    "def preprocess_text(text):\n",
    "    \"\"\"\n",
    "    Preprocesses the text data by removing punctuation, digits, and special characters and extra spaces.\n",
    "    \n",
    "    \"\"\"\n",
    "    # Remove punctuation\n",
    "    text = text.translate(str.maketrans('', '', string.punctuation))\n",
    "    \n",
    "    # Remove digits\n",
    "    text = text.translate(str.maketrans('', '', string.digits))\n",
    "    \n",
    "    # Remove special characters\n",
    "    text = re.sub(r'[^a-zA-Z\\s]', '', text)\n",
    "\n",
    "    text = re.sub(r'\\s+', ' ', text).strip()\n",
    "    text = text.lower()\n",
    "    \n",
    "    return text"
   ]
  },
  {
   "cell_type": "code",
   "execution_count": 37,
   "metadata": {},
   "outputs": [],
   "source": [
    "combined_jobs['Job_Description'] = combined_jobs['Job_Description'].apply(preprocess_text)"
   ]
  },
  {
   "cell_type": "code",
   "execution_count": 38,
   "metadata": {},
   "outputs": [
    {
     "data": {
      "text/plain": [
       "0    tacolicious first palo alto store just opened ...\n",
       "1    new french brasserie in sf financial district ...\n",
       "2    we are a popular mediterranean wine bar and re...\n",
       "3    serve fooddrinks to customers in a professiona...\n",
       "4    located at the heart of hollywood we are one o...\n",
       "Name: Job_Description, dtype: object"
      ]
     },
     "execution_count": 38,
     "metadata": {},
     "output_type": "execute_result"
    }
   ],
   "source": [
    "combined_jobs['Job_Description'].head()"
   ]
  },
  {
   "cell_type": "code",
   "execution_count": 39,
   "metadata": {},
   "outputs": [],
   "source": [
    "combined_jobs['Position'] = combined_jobs['Position'].apply(preprocess_text)"
   ]
  },
  {
   "cell_type": "code",
   "execution_count": 40,
   "metadata": {},
   "outputs": [
    {
     "data": {
      "text/plain": [
       "0               server\n",
       "1    kitchen staffchef\n",
       "2            bartender\n",
       "3               server\n",
       "4    kitchen staffchef\n",
       "Name: Position, dtype: object"
      ]
     },
     "execution_count": 40,
     "metadata": {},
     "output_type": "execute_result"
    }
   ],
   "source": [
    "combined_jobs['Position'].head()"
   ]
  },
  {
   "cell_type": "code",
   "execution_count": 41,
   "metadata": {},
   "outputs": [
    {
     "data": {
      "text/plain": [
       "Index(['Job_ID', 'Position', 'Company', 'City', 'State_Name',\n",
       "       'Education_Required', 'Employment_Type', 'Job_Description'],\n",
       "      dtype='object')"
      ]
     },
     "execution_count": 41,
     "metadata": {},
     "output_type": "execute_result"
    }
   ],
   "source": [
    "combined_jobs.columns"
   ]
  },
  {
   "cell_type": "code",
   "execution_count": 42,
   "metadata": {},
   "outputs": [],
   "source": [
    "#tfidf_vect = TfidfVectorizer(stop_words='english', max_features= 5000)\n",
    "\n",
    "#tfidf_matrix = tfidf_vect.fit_transform(combined_jobs['Job_Description'])"
   ]
  },
  {
   "cell_type": "code",
   "execution_count": 43,
   "metadata": {},
   "outputs": [],
   "source": [
    "#tfidf_vect = TfidfVectorizer(stop_words='english', max_features= 5000)\n",
    "\n",
    "#tfidf_matrix = tfidf_vect.fit_transform(combined_jobs['Position'])"
   ]
  },
  {
   "cell_type": "code",
   "execution_count": 44,
   "metadata": {},
   "outputs": [
    {
     "name": "stdout",
     "output_type": "stream",
     "text": [
      "       ability  accounts       all        an       and       are        as  \\\n",
      "0          0.0  0.000000  0.000000  0.000000  0.102198  0.151824  0.146168   \n",
      "1          0.0  0.000000  0.000000  0.263989  0.378154  0.374518  0.120189   \n",
      "2          0.0  0.000000  0.000000  0.164878  0.314909  0.311881  0.150132   \n",
      "3          0.0  0.000000  0.000000  0.000000  0.000000  0.000000  0.184539   \n",
      "4          0.0  0.000000  0.000000  0.000000  0.000000  0.424470  0.000000   \n",
      "...        ...       ...       ...       ...       ...       ...       ...   \n",
      "81761      0.0  0.555725  0.169615  0.000000  0.000000  0.271330  0.130612   \n",
      "81762      0.0  0.000000  0.000000  0.000000  0.000000  0.000000  0.000000   \n",
      "81763      0.0  0.000000  0.000000  0.000000  0.581643  0.078552  0.075626   \n",
      "81764      0.0  0.000000  0.211415  0.178790  0.113827  0.338197  0.162800   \n",
      "81765      0.0  0.000000  0.000000  0.000000  0.253469  0.376548  0.000000   \n",
      "\n",
      "       assigned  assistant        at  ...        up        we       who  \\\n",
      "0           0.0        0.0  0.180403  ...  0.269479  0.190371  0.000000   \n",
      "1           0.0        0.0  0.000000  ...  0.000000  0.156535  0.100976   \n",
      "2           0.0        0.0  0.000000  ...  0.000000  0.586599  0.000000   \n",
      "3           0.0        0.0  0.000000  ...  0.340220  0.000000  0.000000   \n",
      "4           0.0        0.0  0.168124  ...  0.251138  0.354827  0.228888   \n",
      "...         ...        ...       ...  ...       ...       ...       ...   \n",
      "81761       0.0        0.0  0.161202  ...  0.000000  0.340219  0.219464   \n",
      "81762       0.0        0.0  0.000000  ...  0.000000  0.000000  0.000000   \n",
      "81763       0.0        0.0  0.000000  ...  0.000000  0.196993  0.000000   \n",
      "81764       0.0        0.0  0.000000  ...  0.000000  0.424063  0.000000   \n",
      "81765       0.0        0.0  0.000000  ...  0.000000  0.472151  0.000000   \n",
      "\n",
      "           will      with  within      work   working       you      your  \n",
      "0      0.154078  0.000000     0.0  0.000000  0.246901  0.345938  0.000000  \n",
      "1      0.063347  0.201280     0.0  0.070400  0.101509  0.000000  0.000000  \n",
      "2      0.000000  0.000000     0.0  0.175879  0.000000  0.000000  0.000000  \n",
      "3      0.000000  0.000000     0.0  0.000000  0.000000  0.000000  0.000000  \n",
      "4      0.000000  0.000000     0.0  0.000000  0.000000  0.161196  0.000000  \n",
      "...         ...       ...     ...       ...       ...       ...       ...  \n",
      "81761  0.000000  0.000000     0.0  0.153011  0.000000  0.000000  0.000000  \n",
      "81762  0.000000  0.236686     0.0  0.331137  0.000000  0.000000  0.000000  \n",
      "81763  0.000000  0.189976     0.0  0.000000  0.000000  0.268478  0.100698  \n",
      "81764  0.000000  0.000000     0.0  0.381438  0.000000  0.000000  0.000000  \n",
      "81765  0.000000  0.000000     0.0  0.000000  0.000000  0.000000  0.000000  \n",
      "\n",
      "[81766 rows x 100 columns]\n"
     ]
    }
   ],
   "source": [
    "# Step 1: Combine textual columns for TF-IDF\n",
    "combined_jobs['combined_text'] = combined_jobs[['Position', 'Company', 'City', 'State_Name', 'Job_Description', 'Education_Required']].apply(lambda x: ' '.join(x.astype(str)), axis=1)\n",
    "\n",
    "# Step 2: Initialize TF-IDF Vectorizer\n",
    "tfidf = TfidfVectorizer(max_features=100)  # Adjust max_features as needed\n",
    "\n",
    "# Step 3: Fit and transform the 'combined_text' column\n",
    "tfidf_matrix = tfidf.fit_transform(combined_jobs['combined_text'])\n",
    "\n",
    "# Step 4: Convert to DataFrame for better viewing\n",
    "tfidf_df = pd.DataFrame(tfidf_matrix.toarray(), columns=tfidf.get_feature_names_out())\n",
    "\n",
    "# View the TF-IDF matrix\n",
    "print(tfidf_df)"
   ]
  },
  {
   "cell_type": "code",
   "execution_count": 45,
   "metadata": {},
   "outputs": [
    {
     "ename": "MemoryError",
     "evalue": "Unable to allocate 49.8 GiB for an array with shape (81766, 81766) and data type float64",
     "output_type": "error",
     "traceback": [
      "\u001b[1;31m---------------------------------------------------------------------------\u001b[0m",
      "\u001b[1;31mMemoryError\u001b[0m                               Traceback (most recent call last)",
      "Cell \u001b[1;32mIn[45], line 10\u001b[0m\n\u001b[0;32m      6\u001b[0m tfidf_reduced \u001b[38;5;241m=\u001b[39m svd\u001b[38;5;241m.\u001b[39mfit_transform(tfidf_matrix)\n\u001b[0;32m      8\u001b[0m \u001b[38;5;66;03m# Step 2: Calculate the Cosine Similarity Matrix\u001b[39;00m\n\u001b[0;32m      9\u001b[0m \u001b[38;5;66;03m# Cosine similarity measures the similarity between two vectors, regardless of their magnitude.\u001b[39;00m\n\u001b[1;32m---> 10\u001b[0m cosine_sim \u001b[38;5;241m=\u001b[39m \u001b[43mcosine_similarity\u001b[49m\u001b[43m(\u001b[49m\u001b[43mtfidf_reduced\u001b[49m\u001b[43m,\u001b[49m\u001b[43m \u001b[49m\u001b[43mtfidf_reduced\u001b[49m\u001b[43m)\u001b[49m\n\u001b[0;32m     12\u001b[0m \u001b[38;5;66;03m# Step 3: Build a function to get job recommendations\u001b[39;00m\n\u001b[0;32m     13\u001b[0m \u001b[38;5;28;01mdef\u001b[39;00m \u001b[38;5;21mget_recommendations\u001b[39m(job_index, cosine_sim_matrix, df, top_n\u001b[38;5;241m=\u001b[39m\u001b[38;5;241m10\u001b[39m):\n",
      "File \u001b[1;32mc:\\Users\\PHIL CONRAD\\anaconda3\\envs\\high_society\\Lib\\site-packages\\sklearn\\utils\\_param_validation.py:213\u001b[0m, in \u001b[0;36mvalidate_params.<locals>.decorator.<locals>.wrapper\u001b[1;34m(*args, **kwargs)\u001b[0m\n\u001b[0;32m    207\u001b[0m \u001b[38;5;28;01mtry\u001b[39;00m:\n\u001b[0;32m    208\u001b[0m     \u001b[38;5;28;01mwith\u001b[39;00m config_context(\n\u001b[0;32m    209\u001b[0m         skip_parameter_validation\u001b[38;5;241m=\u001b[39m(\n\u001b[0;32m    210\u001b[0m             prefer_skip_nested_validation \u001b[38;5;129;01mor\u001b[39;00m global_skip_validation\n\u001b[0;32m    211\u001b[0m         )\n\u001b[0;32m    212\u001b[0m     ):\n\u001b[1;32m--> 213\u001b[0m         \u001b[38;5;28;01mreturn\u001b[39;00m \u001b[43mfunc\u001b[49m\u001b[43m(\u001b[49m\u001b[38;5;241;43m*\u001b[39;49m\u001b[43margs\u001b[49m\u001b[43m,\u001b[49m\u001b[43m \u001b[49m\u001b[38;5;241;43m*\u001b[39;49m\u001b[38;5;241;43m*\u001b[39;49m\u001b[43mkwargs\u001b[49m\u001b[43m)\u001b[49m\n\u001b[0;32m    214\u001b[0m \u001b[38;5;28;01mexcept\u001b[39;00m InvalidParameterError \u001b[38;5;28;01mas\u001b[39;00m e:\n\u001b[0;32m    215\u001b[0m     \u001b[38;5;66;03m# When the function is just a wrapper around an estimator, we allow\u001b[39;00m\n\u001b[0;32m    216\u001b[0m     \u001b[38;5;66;03m# the function to delegate validation to the estimator, but we replace\u001b[39;00m\n\u001b[0;32m    217\u001b[0m     \u001b[38;5;66;03m# the name of the estimator by the name of the function in the error\u001b[39;00m\n\u001b[0;32m    218\u001b[0m     \u001b[38;5;66;03m# message to avoid confusion.\u001b[39;00m\n\u001b[0;32m    219\u001b[0m     msg \u001b[38;5;241m=\u001b[39m re\u001b[38;5;241m.\u001b[39msub(\n\u001b[0;32m    220\u001b[0m         \u001b[38;5;124mr\u001b[39m\u001b[38;5;124m\"\u001b[39m\u001b[38;5;124mparameter of \u001b[39m\u001b[38;5;124m\\\u001b[39m\u001b[38;5;124mw+ must be\u001b[39m\u001b[38;5;124m\"\u001b[39m,\n\u001b[0;32m    221\u001b[0m         \u001b[38;5;124mf\u001b[39m\u001b[38;5;124m\"\u001b[39m\u001b[38;5;124mparameter of \u001b[39m\u001b[38;5;132;01m{\u001b[39;00mfunc\u001b[38;5;241m.\u001b[39m\u001b[38;5;18m__qualname__\u001b[39m\u001b[38;5;132;01m}\u001b[39;00m\u001b[38;5;124m must be\u001b[39m\u001b[38;5;124m\"\u001b[39m,\n\u001b[0;32m    222\u001b[0m         \u001b[38;5;28mstr\u001b[39m(e),\n\u001b[0;32m    223\u001b[0m     )\n",
      "File \u001b[1;32mc:\\Users\\PHIL CONRAD\\anaconda3\\envs\\high_society\\Lib\\site-packages\\sklearn\\metrics\\pairwise.py:1687\u001b[0m, in \u001b[0;36mcosine_similarity\u001b[1;34m(X, Y, dense_output)\u001b[0m\n\u001b[0;32m   1684\u001b[0m \u001b[38;5;28;01melse\u001b[39;00m:\n\u001b[0;32m   1685\u001b[0m     Y_normalized \u001b[38;5;241m=\u001b[39m normalize(Y, copy\u001b[38;5;241m=\u001b[39m\u001b[38;5;28;01mTrue\u001b[39;00m)\n\u001b[1;32m-> 1687\u001b[0m K \u001b[38;5;241m=\u001b[39m \u001b[43msafe_sparse_dot\u001b[49m\u001b[43m(\u001b[49m\u001b[43mX_normalized\u001b[49m\u001b[43m,\u001b[49m\u001b[43m \u001b[49m\u001b[43mY_normalized\u001b[49m\u001b[38;5;241;43m.\u001b[39;49m\u001b[43mT\u001b[49m\u001b[43m,\u001b[49m\u001b[43m \u001b[49m\u001b[43mdense_output\u001b[49m\u001b[38;5;241;43m=\u001b[39;49m\u001b[43mdense_output\u001b[49m\u001b[43m)\u001b[49m\n\u001b[0;32m   1689\u001b[0m \u001b[38;5;28;01mreturn\u001b[39;00m K\n",
      "File \u001b[1;32mc:\\Users\\PHIL CONRAD\\anaconda3\\envs\\high_society\\Lib\\site-packages\\sklearn\\utils\\extmath.py:205\u001b[0m, in \u001b[0;36msafe_sparse_dot\u001b[1;34m(a, b, dense_output)\u001b[0m\n\u001b[0;32m    203\u001b[0m         ret \u001b[38;5;241m=\u001b[39m np\u001b[38;5;241m.\u001b[39mdot(a, b)\n\u001b[0;32m    204\u001b[0m \u001b[38;5;28;01melse\u001b[39;00m:\n\u001b[1;32m--> 205\u001b[0m     ret \u001b[38;5;241m=\u001b[39m \u001b[43ma\u001b[49m\u001b[43m \u001b[49m\u001b[38;5;241;43m@\u001b[39;49m\u001b[43m \u001b[49m\u001b[43mb\u001b[49m\n\u001b[0;32m    207\u001b[0m \u001b[38;5;28;01mif\u001b[39;00m (\n\u001b[0;32m    208\u001b[0m     sparse\u001b[38;5;241m.\u001b[39missparse(a)\n\u001b[0;32m    209\u001b[0m     \u001b[38;5;129;01mand\u001b[39;00m sparse\u001b[38;5;241m.\u001b[39missparse(b)\n\u001b[0;32m    210\u001b[0m     \u001b[38;5;129;01mand\u001b[39;00m dense_output\n\u001b[0;32m    211\u001b[0m     \u001b[38;5;129;01mand\u001b[39;00m \u001b[38;5;28mhasattr\u001b[39m(ret, \u001b[38;5;124m\"\u001b[39m\u001b[38;5;124mtoarray\u001b[39m\u001b[38;5;124m\"\u001b[39m)\n\u001b[0;32m    212\u001b[0m ):\n\u001b[0;32m    213\u001b[0m     \u001b[38;5;28;01mreturn\u001b[39;00m ret\u001b[38;5;241m.\u001b[39mtoarray()\n",
      "\u001b[1;31mMemoryError\u001b[0m: Unable to allocate 49.8 GiB for an array with shape (81766, 81766) and data type float64"
     ]
    }
   ],
   "source": [
    "from sklearn.decomposition import TruncatedSVD\n",
    "# Step 1: Apply Dimensionality Reduction using Truncated SVD\n",
    "# We reduce the dimensions of the TF-IDF matrix to avoid memory issues and to speed up computations.\n",
    "n_components = 100  # Number of dimensions to reduce to (adjust based on performance and data size)\n",
    "svd = TruncatedSVD(n_components=n_components, random_state=42)\n",
    "tfidf_reduced = svd.fit_transform(tfidf_matrix)\n",
    "\n",
    "# Step 2: Calculate the Cosine Similarity Matrix\n",
    "# Cosine similarity measures the similarity between two vectors, regardless of their magnitude.\n",
    "cosine_sim = cosine_similarity(tfidf_reduced, tfidf_reduced)\n",
    "\n",
    "# Step 3: Build a function to get job recommendations\n",
    "def get_recommendations(job_index, cosine_sim_matrix, df, top_n=10):\n",
    "    \"\"\"\n",
    "    Given a job_index, returns the top_n most similar jobs using cosine similarity.\n",
    "    \n",
    "    Parameters:\n",
    "    - job_index: Index of the job in the DataFrame to base recommendations on\n",
    "    - cosine_sim_matrix: Cosine similarity matrix for the jobs\n",
    "    - df: Original DataFrame with job details\n",
    "    - top_n: Number of recommendations to return (default is 10)\n",
    "    \n",
    "    Returns:\n",
    "    - top_n similar job listings\n",
    "    \"\"\"\n",
    "    # Get similarity scores for the given job\n",
    "    sim_scores = list(enumerate(cosine_sim_matrix[job_index]))\n",
    "    \n",
    "    # Sort jobs by similarity score (highest to lowest) and ignore the job itself\n",
    "    sim_scores = sorted(sim_scores, key=lambda x: x[1], reverse=True)\n",
    "    \n",
    "    # Get the top_n most similar jobs (ignoring the first one, which is the job itself)\n",
    "    sim_scores = sim_scores[1:top_n + 1]\n",
    "    \n",
    "    # Get the job indices for the top_n most similar jobs\n",
    "    job_indices = [i[0] for i in sim_scores]\n",
    "    \n",
    "    # Return the top_n similar job listings\n",
    "    return df.iloc[job_indices][['Position', 'Company', 'City', 'Employment_Type', 'Job_Description']]\n",
    "\n",
    "# Step 4: Example of getting recommendations for a specific job\n",
    "# Let's say we want to get recommendations for the job at index 0\n",
    "job_index = 0  # Change this index to test for other jobs\n",
    "recommended_jobs = get_recommendations(job_index, cosine_sim, combined_jobs)\n",
    "\n",
    "\n",
    "print(\"Top recommended jobs:\")\n",
    "print(recommended_jobs)"
   ]
  }
 ],
 "metadata": {
  "kernelspec": {
   "display_name": "high_society",
   "language": "python",
   "name": "python3"
  },
  "language_info": {
   "codemirror_mode": {
    "name": "ipython",
    "version": 3
   },
   "file_extension": ".py",
   "mimetype": "text/x-python",
   "name": "python",
   "nbconvert_exporter": "python",
   "pygments_lexer": "ipython3",
   "version": "3.12.7"
  }
 },
 "nbformat": 4,
 "nbformat_minor": 2
}
